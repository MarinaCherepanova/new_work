{
 "cells": [
  {
   "cell_type": "code",
   "execution_count": 55,
   "id": "8a24093f",
   "metadata": {
    "scrolled": true
   },
   "outputs": [],
   "source": [
    "from pyspark.sql import SparkSession\n",
    "import pandas as pd\n",
    "import numpy as np\n",
    "import matplotlib.pyplot as plt\n",
    "import seaborn as sns\n",
    "from pyspark.sql.functions import when\n",
    "%matplotlib inline"
   ]
  },
  {
   "cell_type": "code",
   "execution_count": 3,
   "id": "75f57502",
   "metadata": {},
   "outputs": [],
   "source": [
    "spark = SparkSession \\\n",
    "    .builder \\\n",
    "    .appName(\"Python Spark SQL basic example\") \\\n",
    "    .config(\"spark.some.config.option\", \"some-value\") \\\n",
    "    .getOrCreate()"
   ]
  },
  {
   "cell_type": "code",
   "execution_count": 4,
   "id": "c5375dbd",
   "metadata": {},
   "outputs": [
    {
     "name": "stdout",
     "output_type": "stream",
     "text": [
      "+------------+-----------+------------+-----------+-------+\n",
      "|sepal_length|sepal_width|petal_length|petal_width|species|\n",
      "+------------+-----------+------------+-----------+-------+\n",
      "|         5.1|        3.5|         1.4|        0.2| setosa|\n",
      "|         4.9|        3.0|         1.4|        0.2| setosa|\n",
      "|         4.7|        3.2|         1.3|        0.2| setosa|\n",
      "|         4.6|        3.1|         1.5|        0.2| setosa|\n",
      "|         5.0|        3.6|         1.4|        0.2| setosa|\n",
      "+------------+-----------+------------+-----------+-------+\n",
      "only showing top 5 rows\n",
      "\n"
     ]
    }
   ],
   "source": [
    "df = spark.read.csv('iris.csv', header=True)\n",
    "df.show(5)"
   ]
  },
  {
   "cell_type": "code",
   "execution_count": 6,
   "id": "caabc412",
   "metadata": {},
   "outputs": [
    {
     "data": {
      "text/plain": [
       "<pyspark.sql.group.GroupedData at 0x2c223cd83d0>"
      ]
     },
     "execution_count": 6,
     "metadata": {},
     "output_type": "execute_result"
    }
   ],
   "source": [
    "df.groupby()"
   ]
  },
  {
   "cell_type": "code",
   "execution_count": 7,
   "id": "b6dcaa85",
   "metadata": {},
   "outputs": [
    {
     "name": "stdout",
     "output_type": "stream",
     "text": [
      "+----------------+----------------+-----------------+-----------------+\n",
      "|max(sepal_width)|max(petal_width)|max(sepal_length)|max(petal_length)|\n",
      "+----------------+----------------+-----------------+-----------------+\n",
      "|             4.4|             2.5|              7.9|              6.9|\n",
      "+----------------+----------------+-----------------+-----------------+\n",
      "\n"
     ]
    }
   ],
   "source": [
    "df.agg({'sepal_length': 'max', 'sepal_width' : 'max', 'petal_length' : 'max', 'petal_width' : 'max'}).show()"
   ]
  },
  {
   "cell_type": "code",
   "execution_count": 8,
   "id": "042f80a3",
   "metadata": {},
   "outputs": [
    {
     "name": "stdout",
     "output_type": "stream",
     "text": [
      "+----------------+----------------+-----------------+-----------------+\n",
      "|min(sepal_width)|min(petal_width)|min(sepal_length)|min(petal_length)|\n",
      "+----------------+----------------+-----------------+-----------------+\n",
      "|             2.0|             0.1|              4.3|              1.0|\n",
      "+----------------+----------------+-----------------+-----------------+\n",
      "\n"
     ]
    }
   ],
   "source": [
    "df.agg({'sepal_length': 'min', 'sepal_width' : 'min', 'petal_length' : 'min', 'petal_width' : 'min'}).show()"
   ]
  },
  {
   "cell_type": "code",
   "execution_count": 9,
   "id": "15eeb1ed",
   "metadata": {},
   "outputs": [
    {
     "name": "stdout",
     "output_type": "stream",
     "text": [
      "+------------------+------------------+-----------------+------------------+\n",
      "|  avg(sepal_width)|  avg(petal_width)|avg(sepal_length)| avg(petal_length)|\n",
      "+------------------+------------------+-----------------+------------------+\n",
      "|3.0540000000000007|1.1986666666666672|5.843333333333335|3.7586666666666693|\n",
      "+------------------+------------------+-----------------+------------------+\n",
      "\n"
     ]
    }
   ],
   "source": [
    "df.agg({'sepal_length': 'avg', 'sepal_width' : 'avg', 'petal_length' : 'avg', 'petal_width' : 'avg'}).show()"
   ]
  },
  {
   "cell_type": "code",
   "execution_count": 49,
   "id": "d1ec4f2e",
   "metadata": {},
   "outputs": [],
   "source": [
    "pd_df = df.toPandas()"
   ]
  },
  {
   "cell_type": "code",
   "execution_count": 45,
   "id": "cb96ba54",
   "metadata": {},
   "outputs": [
    {
     "data": {
      "text/plain": [
       "Text(0, 0.5, 'petal_width')"
      ]
     },
     "execution_count": 45,
     "metadata": {},
     "output_type": "execute_result"
    },
    {
     "data": {
      "image/png": "[encoded data removed]",
      "text/plain": [
       "<Figure size 432x288 with 1 Axes>"
      ]
     },
     "metadata": {
      "needs_background": "light"
     },
     "output_type": "display_data"
    }
   ],
   "source": [
    "colors = {'setosa':'r', 'versicolor':'g', 'virginica':'b'}\n",
    "\n",
    "fig, ax = plt.subplots()\n",
    "\n",
    "for i in range(len(pd_df['petal_length'])):\n",
    "    ax.scatter(pd_df['petal_length'][i], pd_df['petal_width'][i], color=colors[pd_df['species'][i]])\n",
    "    \n",
    "ax.set_title('Iris Dataset')\n",
    "ax.set_xlabel('petal_length')\n",
    "ax.set_ylabel('petal_width')"
   ]
  },
  {
   "cell_type": "code",
   "execution_count": 82,
   "id": "6c7bb25a",
   "metadata": {},
   "outputs": [
    {
     "data": {
      "text/plain": [
       "<AxesSubplot:xlabel='petal_length', ylabel='petal_width'>"
      ]
     },
     "execution_count": 82,
     "metadata": {},
     "output_type": "execute_result"
    },
    {
     "data": {
      "image/png": "[encoded data removed]",
      "text/plain": [
       "<Figure size 432x288 with 1 Axes>"
      ]
     },
     "metadata": {
      "needs_background": "light"
     },
     "output_type": "display_data"
    }
   ],
   "source": [
    "sns.scatterplot(x='petal_length', y='petal_width', hue='species', data=pd_df)"
   ]
  },
  {
   "cell_type": "code",
   "execution_count": 72,
   "id": "9f139504",
   "metadata": {},
   "outputs": [
    {
     "name": "stdout",
     "output_type": "stream",
     "text": [
      "+------------+-----------+------------+-----------+----------+-------+\n",
      "|sepal_length|sepal_width|petal_length|petal_width|   species|Suggest|\n",
      "+------------+-----------+------------+-----------+----------+-------+\n",
      "|         5.1|        3.5|         1.4|        0.2|    setosa| Setosa|\n",
      "|         4.9|        3.0|         1.4|        0.2|    setosa| Setosa|\n",
      "|         4.7|        3.2|         1.3|        0.2|    setosa| Setosa|\n",
      "|         4.6|        3.1|         1.5|        0.2|    setosa| Setosa|\n",
      "|         5.0|        3.6|         1.4|        0.2|    setosa| Setosa|\n",
      "|         5.4|        3.9|         1.7|        0.4|    setosa| Setosa|\n",
      "|         4.6|        3.4|         1.4|        0.3|    setosa| Setosa|\n",
      "|         5.0|        3.4|         1.5|        0.2|    setosa| Setosa|\n",
      "|         4.4|        2.9|         1.4|        0.2|    setosa| Setosa|\n",
      "|         4.9|        3.1|         1.5|        0.1|    setosa| Setosa|\n",
      "|         5.4|        3.7|         1.5|        0.2|    setosa| Setosa|\n",
      "|         4.8|        3.4|         1.6|        0.2|    setosa| Setosa|\n",
      "|         4.8|        3.0|         1.4|        0.1|    setosa| Setosa|\n",
      "|         4.3|        3.0|         1.1|        0.1|    setosa| Setosa|\n",
      "|         5.8|        4.0|         1.2|        0.2|    setosa| Setosa|\n",
      "|         5.7|        4.4|         1.5|        0.4|    setosa| Setosa|\n",
      "|         5.4|        3.9|         1.3|        0.4|    setosa| Setosa|\n",
      "|         5.1|        3.5|         1.4|        0.3|    setosa| Setosa|\n",
      "|         5.7|        3.8|         1.7|        0.3|    setosa| Setosa|\n",
      "|         5.1|        3.8|         1.5|        0.3|    setosa| Setosa|\n",
      "|         5.4|        3.4|         1.7|        0.2|    setosa| Setosa|\n",
      "|         5.1|        3.7|         1.5|        0.4|    setosa| Setosa|\n",
      "|         4.6|        3.6|         1.0|        0.2|    setosa| Setosa|\n",
      "|         5.1|        3.3|         1.7|        0.5|    setosa| Setosa|\n",
      "|         4.8|        3.4|         1.9|        0.2|    setosa| Setosa|\n",
      "|         5.0|        3.0|         1.6|        0.2|    setosa| Setosa|\n",
      "|         5.0|        3.4|         1.6|        0.4|    setosa| Setosa|\n",
      "|         5.2|        3.5|         1.5|        0.2|    setosa| Setosa|\n",
      "|         5.2|        3.4|         1.4|        0.2|    setosa| Setosa|\n",
      "|         4.7|        3.2|         1.6|        0.2|    setosa| Setosa|\n",
      "|         4.8|        3.1|         1.6|        0.2|    setosa| Setosa|\n",
      "|         5.4|        3.4|         1.5|        0.4|    setosa| Setosa|\n",
      "|         5.2|        4.1|         1.5|        0.1|    setosa| Setosa|\n",
      "|         5.5|        4.2|         1.4|        0.2|    setosa| Setosa|\n",
      "|         4.9|        3.1|         1.5|        0.1|    setosa| Setosa|\n",
      "|         5.0|        3.2|         1.2|        0.2|    setosa| Setosa|\n",
      "|         5.5|        3.5|         1.3|        0.2|    setosa| Setosa|\n",
      "|         4.9|        3.1|         1.5|        0.1|    setosa| Setosa|\n",
      "|         4.4|        3.0|         1.3|        0.2|    setosa| Setosa|\n",
      "|         5.1|        3.4|         1.5|        0.2|    setosa| Setosa|\n",
      "|         5.0|        3.5|         1.3|        0.3|    setosa| Setosa|\n",
      "|         4.5|        2.3|         1.3|        0.3|    setosa| Setosa|\n",
      "|         4.4|        3.2|         1.3|        0.2|    setosa| Setosa|\n",
      "|         5.0|        3.5|         1.6|        0.6|    setosa| Setosa|\n",
      "|         5.1|        3.8|         1.9|        0.4|    setosa| Setosa|\n",
      "|         4.8|        3.0|         1.4|        0.3|    setosa| Setosa|\n",
      "|         5.1|        3.8|         1.6|        0.2|    setosa| Setosa|\n",
      "|         4.6|        3.2|         1.4|        0.2|    setosa| Setosa|\n",
      "|         5.3|        3.7|         1.5|        0.2|    setosa| Setosa|\n",
      "|         5.0|        3.3|         1.4|        0.2|    setosa| Setosa|\n",
      "|         7.0|        3.2|         4.7|        1.4|versicolor|Unknown|\n",
      "|         6.4|        3.2|         4.5|        1.5|versicolor|Unknown|\n",
      "|         6.9|        3.1|         4.9|        1.5|versicolor|Unknown|\n",
      "|         5.5|        2.3|         4.0|        1.3|versicolor|Unknown|\n",
      "|         6.5|        2.8|         4.6|        1.5|versicolor|Unknown|\n",
      "|         5.7|        2.8|         4.5|        1.3|versicolor|Unknown|\n",
      "|         6.3|        3.3|         4.7|        1.6|versicolor|Unknown|\n",
      "|         4.9|        2.4|         3.3|        1.0|versicolor|Unknown|\n",
      "|         6.6|        2.9|         4.6|        1.3|versicolor|Unknown|\n",
      "|         5.2|        2.7|         3.9|        1.4|versicolor|Unknown|\n",
      "|         5.0|        2.0|         3.5|        1.0|versicolor|Unknown|\n",
      "|         5.9|        3.0|         4.2|        1.5|versicolor|Unknown|\n",
      "|         6.0|        2.2|         4.0|        1.0|versicolor|Unknown|\n",
      "|         6.1|        2.9|         4.7|        1.4|versicolor|Unknown|\n",
      "|         5.6|        2.9|         3.6|        1.3|versicolor|Unknown|\n",
      "|         6.7|        3.1|         4.4|        1.4|versicolor|Unknown|\n",
      "|         5.6|        3.0|         4.5|        1.5|versicolor|Unknown|\n",
      "|         5.8|        2.7|         4.1|        1.0|versicolor|Unknown|\n",
      "|         6.2|        2.2|         4.5|        1.5|versicolor|Unknown|\n",
      "|         5.6|        2.5|         3.9|        1.1|versicolor|Unknown|\n",
      "|         5.9|        3.2|         4.8|        1.8|versicolor|Unknown|\n",
      "|         6.1|        2.8|         4.0|        1.3|versicolor|Unknown|\n",
      "|         6.3|        2.5|         4.9|        1.5|versicolor|Unknown|\n",
      "|         6.1|        2.8|         4.7|        1.2|versicolor|Unknown|\n",
      "|         6.4|        2.9|         4.3|        1.3|versicolor|Unknown|\n",
      "|         6.6|        3.0|         4.4|        1.4|versicolor|Unknown|\n",
      "|         6.8|        2.8|         4.8|        1.4|versicolor|Unknown|\n",
      "|         6.7|        3.0|         5.0|        1.7|versicolor|Unknown|\n",
      "|         6.0|        2.9|         4.5|        1.5|versicolor|Unknown|\n",
      "|         5.7|        2.6|         3.5|        1.0|versicolor|Unknown|\n",
      "|         5.5|        2.4|         3.8|        1.1|versicolor|Unknown|\n",
      "|         5.5|        2.4|         3.7|        1.0|versicolor|Unknown|\n",
      "|         5.8|        2.7|         3.9|        1.2|versicolor|Unknown|\n",
      "|         6.0|        2.7|         5.1|        1.6|versicolor|Unknown|\n",
      "|         5.4|        3.0|         4.5|        1.5|versicolor|Unknown|\n",
      "|         6.0|        3.4|         4.5|        1.6|versicolor|Unknown|\n",
      "|         6.7|        3.1|         4.7|        1.5|versicolor|Unknown|\n",
      "|         6.3|        2.3|         4.4|        1.3|versicolor|Unknown|\n",
      "|         5.6|        3.0|         4.1|        1.3|versicolor|Unknown|\n",
      "|         5.5|        2.5|         4.0|        1.3|versicolor|Unknown|\n",
      "|         5.5|        2.6|         4.4|        1.2|versicolor|Unknown|\n",
      "|         6.1|        3.0|         4.6|        1.4|versicolor|Unknown|\n",
      "|         5.8|        2.6|         4.0|        1.2|versicolor|Unknown|\n",
      "|         5.0|        2.3|         3.3|        1.0|versicolor|Unknown|\n",
      "|         5.6|        2.7|         4.2|        1.3|versicolor|Unknown|\n",
      "|         5.7|        3.0|         4.2|        1.2|versicolor|Unknown|\n",
      "|         5.7|        2.9|         4.2|        1.3|versicolor|Unknown|\n",
      "|         6.2|        2.9|         4.3|        1.3|versicolor|Unknown|\n",
      "|         5.1|        2.5|         3.0|        1.1|versicolor|Unknown|\n",
      "|         5.7|        2.8|         4.1|        1.3|versicolor|Unknown|\n",
      "|         6.3|        3.3|         6.0|        2.5| virginica|Unknown|\n",
      "|         5.8|        2.7|         5.1|        1.9| virginica|Unknown|\n",
      "|         7.1|        3.0|         5.9|        2.1| virginica|Unknown|\n",
      "|         6.3|        2.9|         5.6|        1.8| virginica|Unknown|\n",
      "|         6.5|        3.0|         5.8|        2.2| virginica|Unknown|\n",
      "|         7.6|        3.0|         6.6|        2.1| virginica|Unknown|\n",
      "|         4.9|        2.5|         4.5|        1.7| virginica|Unknown|\n",
      "|         7.3|        2.9|         6.3|        1.8| virginica|Unknown|\n",
      "|         6.7|        2.5|         5.8|        1.8| virginica|Unknown|\n",
      "|         7.2|        3.6|         6.1|        2.5| virginica|Unknown|\n",
      "|         6.5|        3.2|         5.1|        2.0| virginica|Unknown|\n",
      "|         6.4|        2.7|         5.3|        1.9| virginica|Unknown|\n",
      "|         6.8|        3.0|         5.5|        2.1| virginica|Unknown|\n",
      "|         5.7|        2.5|         5.0|        2.0| virginica|Unknown|\n",
      "|         5.8|        2.8|         5.1|        2.4| virginica|Unknown|\n",
      "|         6.4|        3.2|         5.3|        2.3| virginica|Unknown|\n",
      "|         6.5|        3.0|         5.5|        1.8| virginica|Unknown|\n",
      "|         7.7|        3.8|         6.7|        2.2| virginica|Unknown|\n",
      "|         7.7|        2.6|         6.9|        2.3| virginica|Unknown|\n",
      "|         6.0|        2.2|         5.0|        1.5| virginica|Unknown|\n",
      "|         6.9|        3.2|         5.7|        2.3| virginica|Unknown|\n",
      "|         5.6|        2.8|         4.9|        2.0| virginica|Unknown|\n",
      "|         7.7|        2.8|         6.7|        2.0| virginica|Unknown|\n",
      "|         6.3|        2.7|         4.9|        1.8| virginica|Unknown|\n",
      "|         6.7|        3.3|         5.7|        2.1| virginica|Unknown|\n",
      "|         7.2|        3.2|         6.0|        1.8| virginica|Unknown|\n",
      "|         6.2|        2.8|         4.8|        1.8| virginica|Unknown|\n",
      "|         6.1|        3.0|         4.9|        1.8| virginica|Unknown|\n",
      "|         6.4|        2.8|         5.6|        2.1| virginica|Unknown|\n",
      "|         7.2|        3.0|         5.8|        1.6| virginica|Unknown|\n",
      "|         7.4|        2.8|         6.1|        1.9| virginica|Unknown|\n",
      "|         7.9|        3.8|         6.4|        2.0| virginica|Unknown|\n",
      "|         6.4|        2.8|         5.6|        2.2| virginica|Unknown|\n",
      "|         6.3|        2.8|         5.1|        1.5| virginica|Unknown|\n",
      "|         6.1|        2.6|         5.6|        1.4| virginica|Unknown|\n",
      "|         7.7|        3.0|         6.1|        2.3| virginica|Unknown|\n",
      "|         6.3|        3.4|         5.6|        2.4| virginica|Unknown|\n",
      "|         6.4|        3.1|         5.5|        1.8| virginica|Unknown|\n",
      "|         6.0|        3.0|         4.8|        1.8| virginica|Unknown|\n",
      "|         6.9|        3.1|         5.4|        2.1| virginica|Unknown|\n",
      "|         6.7|        3.1|         5.6|        2.4| virginica|Unknown|\n",
      "|         6.9|        3.1|         5.1|        2.3| virginica|Unknown|\n",
      "|         5.8|        2.7|         5.1|        1.9| virginica|Unknown|\n",
      "|         6.8|        3.2|         5.9|        2.3| virginica|Unknown|\n",
      "|         6.7|        3.3|         5.7|        2.5| virginica|Unknown|\n",
      "|         6.7|        3.0|         5.2|        2.3| virginica|Unknown|\n",
      "|         6.3|        2.5|         5.0|        1.9| virginica|Unknown|\n",
      "|         6.5|        3.0|         5.2|        2.0| virginica|Unknown|\n",
      "|         6.2|        3.4|         5.4|        2.3| virginica|Unknown|\n",
      "|         5.9|        3.0|         5.1|        1.8| virginica|Unknown|\n",
      "+------------+-----------+------------+-----------+----------+-------+\n",
      "\n"
     ]
    }
   ],
   "source": [
    "df2 = df.withColumn(\"Suggest\", when(df.petal_length < 1.7, \"Setosa\")\n",
    "                               .when(df.petal_width < 1, \"Setosa\")\n",
    "                               .otherwise(\"Unknown\"))\n",
    "df2.show(150)"
   ]
  },
  {
   "cell_type": "code",
   "execution_count": 74,
   "id": "967efebb",
   "metadata": {},
   "outputs": [
    {
     "data": {
      "text/html": [
       "<div>\n",
       "<style scoped>\n",
       "    .dataframe tbody tr th:only-of-type {\n",
       "        vertical-align: middle;\n",
       "    }\n",
       "\n",
       "    .dataframe tbody tr th {\n",
       "        vertical-align: top;\n",
       "    }\n",
       "\n",
       "    .dataframe thead th {\n",
       "        text-align: right;\n",
       "    }\n",
       "</style>\n",
       "<table border=\"1\" class=\"dataframe\">\n",
       "  <thead>\n",
       "    <tr style=\"text-align: right;\">\n",
       "      <th></th>\n",
       "      <th>sepal_length</th>\n",
       "      <th>sepal_width</th>\n",
       "      <th>petal_length</th>\n",
       "      <th>petal_width</th>\n",
       "      <th>species</th>\n",
       "      <th>Suggest</th>\n",
       "    </tr>\n",
       "  </thead>\n",
       "  <tbody>\n",
       "    <tr>\n",
       "      <th>0</th>\n",
       "      <td>5.1</td>\n",
       "      <td>3.5</td>\n",
       "      <td>1.4</td>\n",
       "      <td>0.2</td>\n",
       "      <td>setosa</td>\n",
       "      <td>Setosa</td>\n",
       "    </tr>\n",
       "    <tr>\n",
       "      <th>1</th>\n",
       "      <td>4.9</td>\n",
       "      <td>3.0</td>\n",
       "      <td>1.4</td>\n",
       "      <td>0.2</td>\n",
       "      <td>setosa</td>\n",
       "      <td>Setosa</td>\n",
       "    </tr>\n",
       "    <tr>\n",
       "      <th>2</th>\n",
       "      <td>4.7</td>\n",
       "      <td>3.2</td>\n",
       "      <td>1.3</td>\n",
       "      <td>0.2</td>\n",
       "      <td>setosa</td>\n",
       "      <td>Setosa</td>\n",
       "    </tr>\n",
       "    <tr>\n",
       "      <th>3</th>\n",
       "      <td>4.6</td>\n",
       "      <td>3.1</td>\n",
       "      <td>1.5</td>\n",
       "      <td>0.2</td>\n",
       "      <td>setosa</td>\n",
       "      <td>Setosa</td>\n",
       "    </tr>\n",
       "    <tr>\n",
       "      <th>4</th>\n",
       "      <td>5.0</td>\n",
       "      <td>3.6</td>\n",
       "      <td>1.4</td>\n",
       "      <td>0.2</td>\n",
       "      <td>setosa</td>\n",
       "      <td>Setosa</td>\n",
       "    </tr>\n",
       "    <tr>\n",
       "      <th>...</th>\n",
       "      <td>...</td>\n",
       "      <td>...</td>\n",
       "      <td>...</td>\n",
       "      <td>...</td>\n",
       "      <td>...</td>\n",
       "      <td>...</td>\n",
       "    </tr>\n",
       "    <tr>\n",
       "      <th>145</th>\n",
       "      <td>6.7</td>\n",
       "      <td>3.0</td>\n",
       "      <td>5.2</td>\n",
       "      <td>2.3</td>\n",
       "      <td>virginica</td>\n",
       "      <td>Unknown</td>\n",
       "    </tr>\n",
       "    <tr>\n",
       "      <th>146</th>\n",
       "      <td>6.3</td>\n",
       "      <td>2.5</td>\n",
       "      <td>5.0</td>\n",
       "      <td>1.9</td>\n",
       "      <td>virginica</td>\n",
       "      <td>Unknown</td>\n",
       "    </tr>\n",
       "    <tr>\n",
       "      <th>147</th>\n",
       "      <td>6.5</td>\n",
       "      <td>3.0</td>\n",
       "      <td>5.2</td>\n",
       "      <td>2.0</td>\n",
       "      <td>virginica</td>\n",
       "      <td>Unknown</td>\n",
       "    </tr>\n",
       "    <tr>\n",
       "      <th>148</th>\n",
       "      <td>6.2</td>\n",
       "      <td>3.4</td>\n",
       "      <td>5.4</td>\n",
       "      <td>2.3</td>\n",
       "      <td>virginica</td>\n",
       "      <td>Unknown</td>\n",
       "    </tr>\n",
       "    <tr>\n",
       "      <th>149</th>\n",
       "      <td>5.9</td>\n",
       "      <td>3.0</td>\n",
       "      <td>5.1</td>\n",
       "      <td>1.8</td>\n",
       "      <td>virginica</td>\n",
       "      <td>Unknown</td>\n",
       "    </tr>\n",
       "  </tbody>\n",
       "</table>\n",
       "<p>150 rows × 6 columns</p>\n",
       "</div>"
      ],
      "text/plain": [
       "    sepal_length sepal_width petal_length petal_width    species  Suggest\n",
       "0            5.1         3.5          1.4         0.2     setosa   Setosa\n",
       "1            4.9         3.0          1.4         0.2     setosa   Setosa\n",
       "2            4.7         3.2          1.3         0.2     setosa   Setosa\n",
       "3            4.6         3.1          1.5         0.2     setosa   Setosa\n",
       "4            5.0         3.6          1.4         0.2     setosa   Setosa\n",
       "..           ...         ...          ...         ...        ...      ...\n",
       "145          6.7         3.0          5.2         2.3  virginica  Unknown\n",
       "146          6.3         2.5          5.0         1.9  virginica  Unknown\n",
       "147          6.5         3.0          5.2         2.0  virginica  Unknown\n",
       "148          6.2         3.4          5.4         2.3  virginica  Unknown\n",
       "149          5.9         3.0          5.1         1.8  virginica  Unknown\n",
       "\n",
       "[150 rows x 6 columns]"
      ]
     },
     "execution_count": 74,
     "metadata": {},
     "output_type": "execute_result"
    }
   ],
   "source": [
    "pd_df2 = df2.toPandas()\n",
    "pd_df2"
   ]
  },
  {
   "cell_type": "code",
   "execution_count": 79,
   "id": "0b4634b7",
   "metadata": {},
   "outputs": [
    {
     "data": {
      "text/plain": [
       "50"
      ]
     },
     "execution_count": 79,
     "metadata": {},
     "output_type": "execute_result"
    }
   ],
   "source": [
    "correct = 0\n",
    "for i in range(len(pd_df2['Suggest'])):\n",
    "    if (pd_df2['Suggest'][i] == 'Setosa' and pd_df2['species'][i] == 'setosa'): correct = correct + 1\n",
    "correct"
   ]
  },
  {
   "cell_type": "code",
   "execution_count": 81,
   "id": "6c59f8d5",
   "metadata": {},
   "outputs": [
    {
     "data": {
      "text/plain": [
       "0"
      ]
     },
     "execution_count": 81,
     "metadata": {},
     "output_type": "execute_result"
    }
   ],
   "source": [
    "incorrect = 0\n",
    "for i in range(len(pd_df2['Suggest'])):\n",
    "    if (pd_df2['Suggest'][i] == 'Setosa' and pd_df2['species'][i] != 'setosa'): incorrect = incorrect + 1\n",
    "incorrect"
   ]
  },
  {
   "cell_type": "code",
   "execution_count": null,
   "id": "8b9f565a",
   "metadata": {},
   "outputs": [],
   "source": []
  }
 ],
 "metadata": {
  "kernelspec": {
   "display_name": "Python 3 (ipykernel)",
   "language": "python",
   "name": "python3"
  },
  "language_info": {
   "codemirror_mode": {
    "name": "ipython",
    "version": 3
   },
   "file_extension": ".py",
   "mimetype": "text/x-python",
   "name": "python",
   "nbconvert_exporter": "python",
   "pygments_lexer": "ipython3",
   "version": "3.9.7"
  }
 },
 "nbformat": 4,
 "nbformat_minor": 5
}
